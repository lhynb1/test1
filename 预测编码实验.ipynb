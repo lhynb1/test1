{
 "cells": [
  {
   "cell_type": "code",
   "execution_count": 2,
   "metadata": {},
   "outputs": [
    {
     "ename": "AttributeError",
     "evalue": "module 'skimage.measure' has no attribute 'compare_psnr'",
     "output_type": "error",
     "traceback": [
      "\u001b[1;31m---------------------------------------------------------------------------\u001b[0m",
      "\u001b[1;31mAttributeError\u001b[0m                            Traceback (most recent call last)",
      "\u001b[1;32m~\\AppData\\Local\\Temp\\ipykernel_6564\\3900097756.py\u001b[0m in \u001b[0;36m<module>\u001b[1;34m\u001b[0m\n\u001b[0;32m     51\u001b[0m \u001b[1;33m\u001b[0m\u001b[0m\n\u001b[0;32m     52\u001b[0m     \u001b[1;31m# 计算PSNR和SSIM值\u001b[0m\u001b[1;33m\u001b[0m\u001b[1;33m\u001b[0m\u001b[0m\n\u001b[1;32m---> 53\u001b[1;33m     \u001b[0mpsnr\u001b[0m \u001b[1;33m=\u001b[0m \u001b[0mmeasure\u001b[0m\u001b[1;33m.\u001b[0m\u001b[0mcompare_psnr\u001b[0m\u001b[1;33m(\u001b[0m\u001b[0mimg\u001b[0m\u001b[1;33m,\u001b[0m \u001b[0mimg_recon\u001b[0m\u001b[1;33m)\u001b[0m\u001b[1;33m\u001b[0m\u001b[1;33m\u001b[0m\u001b[0m\n\u001b[0m\u001b[0;32m     54\u001b[0m     \u001b[0mssim\u001b[0m \u001b[1;33m=\u001b[0m \u001b[0mmeasure\u001b[0m\u001b[1;33m.\u001b[0m\u001b[0mcompare_ssim\u001b[0m\u001b[1;33m(\u001b[0m\u001b[0mimg\u001b[0m\u001b[1;33m,\u001b[0m \u001b[0mimg_recon\u001b[0m\u001b[1;33m)\u001b[0m\u001b[1;33m\u001b[0m\u001b[1;33m\u001b[0m\u001b[0m\n\u001b[0;32m     55\u001b[0m \u001b[1;33m\u001b[0m\u001b[0m\n",
      "\u001b[1;31mAttributeError\u001b[0m: module 'skimage.measure' has no attribute 'compare_psnr'"
     ]
    }
   ],
   "source": [
    "import numpy as np\n",
    "from skimage import io,measure\n",
    "\n",
    "# 读取图像\n",
    "img = io.imread('D:/Game/upian/uling.png', as_gray=True)\n",
    "\n",
    "# 定义DPCM编码和解码函数\n",
    "def DPCM_encode(img, bit):\n",
    "    # 定义差分编码器\n",
    "    tmp = np.zeros(img.shape)\n",
    "    tmp[:, 0] = img[:, 0]\n",
    "    for i in range(img.shape[0]):\n",
    "        for j in range(1, img.shape[1]):\n",
    "            tmp[i, j] = img[i, j] - img[i, j - 1]\n",
    "\n",
    "    # 定义量化器\n",
    "    quants = np.round(2 ** bit - 1)\n",
    "    step = 256 / quants\n",
    "\n",
    "    # 定义码字\n",
    "    code = np.zeros(img.shape)\n",
    "\n",
    "    # 进行DPCM编码\n",
    "    for i in range(img.shape[0]):\n",
    "        for j in range(img.shape[1]):\n",
    "            code[i, j] = np.round((tmp[i, j]+128) / step)\n",
    "\n",
    "    return code, step\n",
    "\n",
    "def DPCM_decode(code, step):\n",
    "    # 进行DPCM解码\n",
    "    tmp = np.zeros(code.shape)\n",
    "    for i in range(code.shape[0]):\n",
    "        for j in range(1, code.shape[1]):\n",
    "            tmp[i, j] = (code[i, j]*step - 128) + tmp[i, j - 1]\n",
    "    img_recon = tmp\n",
    "\n",
    "    return img_recon\n",
    "\n",
    "# 依次执行不同量化器的编码和解码，并计算重建图像的PSNR和SSIM值\n",
    "bits = [1, 2, 4, 8]\n",
    "psnrs = []\n",
    "ssims = []\n",
    "\n",
    "for bit in bits:\n",
    "    # DPCM编码\n",
    "    code, step = DPCM_encode(img, bit)\n",
    "\n",
    "    # DPCM解码\n",
    "    img_recon = DPCM_decode(code, step)\n",
    "\n",
    "    # 计算PSNR和SSIM值\n",
    "    psnr = measure.compare_psnr(img, img_recon)\n",
    "    ssim = measure.compare_ssim(img, img_recon)\n",
    "\n",
    "    # 保存重建图像\n",
    "    io.imsave('recon_{}bit.png'.format(bit), img_recon)\n",
    "\n",
    "    psnrs.append(psnr)\n",
    "    ssims.append(ssim)\n",
    "    \n",
    "# 打印不同量化器的PSNR和SSIM值\n",
    "print('PSNRs:', psnrs)\n",
    "print('SSIMs:', ssims)\n"
   ]
  }
 ],
 "metadata": {
  "kernelspec": {
   "display_name": "base",
   "language": "python",
   "name": "python3"
  },
  "language_info": {
   "codemirror_mode": {
    "name": "ipython",
    "version": 3
   },
   "file_extension": ".py",
   "mimetype": "text/x-python",
   "name": "python",
   "nbconvert_exporter": "python",
   "pygments_lexer": "ipython3",
   "version": "3.9.13"
  },
  "orig_nbformat": 4
 },
 "nbformat": 4,
 "nbformat_minor": 2
}
