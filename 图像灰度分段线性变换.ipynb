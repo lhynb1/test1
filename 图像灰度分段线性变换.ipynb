{
 "cells": [
  {
   "cell_type": "code",
   "execution_count": 6,
   "metadata": {},
   "outputs": [],
   "source": [
    "import numpy as np\n",
    "import cv2\n",
    " \n",
    "def linear_transform(img):\n",
    "    height,width = img.shape[:2]\n",
    "    r1,s1 = 80,10\n",
    "    r2,s2 = 140,200\n",
    "    k1 = s1 / r1   # 第一段斜率\n",
    "    k2 = (s2 - s1) / (r2 - r1) # 第二段斜率\n",
    "    k3 = (255 - s2) / (255 - r2)  # 第三段斜率\n",
    "    img_copy = np.zeros_like(img)\n",
    " \n",
    "    for i in range(height):\n",
    "        for j in range(width):\n",
    "            if img[i,j] < r1 :\n",
    "                img_copy[i,j] = k1 * img[i,j]\n",
    "            elif r1 <= img[i,j] <= r2:\n",
    "                img_copy[i,j] = k2 * (img[i,j] - r1) + s1\n",
    "            else:\n",
    "                img_copy[i,j] = k3 * (img[i,j] - r2) + s2\n",
    " \n",
    "    return img_copy\n",
    " \n",
    " \n",
    "img = cv2.imread('D:/Game/upian/uling.png',0)\n",
    "ret = linear_transform(img)\n",
    "cv2.imshow('img',np.hstack((img,ret)))\n",
    "cv2.waitKey()\n",
    "cv2.destroyAllWindows()\n",
    "\n",
    "\n"
   ]
  }
 ],
 "metadata": {
  "kernelspec": {
   "display_name": "base",
   "language": "python",
   "name": "python3"
  },
  "language_info": {
   "codemirror_mode": {
    "name": "ipython",
    "version": 3
   },
   "file_extension": ".py",
   "mimetype": "text/x-python",
   "name": "python",
   "nbconvert_exporter": "python",
   "pygments_lexer": "ipython3",
   "version": "3.9.13"
  },
  "orig_nbformat": 4
 },
 "nbformat": 4,
 "nbformat_minor": 2
}
