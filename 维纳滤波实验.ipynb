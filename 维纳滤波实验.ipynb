{
 "cells": [
  {
   "cell_type": "code",
   "execution_count": 1,
   "metadata": {},
   "outputs": [
    {
     "name": "stdout",
     "output_type": "stream",
     "text": [
      "PSNR (Wiener, unknown SNR, 20dB):  11.58580947530229\n",
      "PSNR (Wiener, unknown SNR, 10dB):  12.916937185398806\n",
      "PSNR (Wiener, known SNR, 20dB):  5.334898310616668\n",
      "PSNR (Wiener, known SNR, 10dB):  6.069978118372915\n"
     ]
    }
   ],
   "source": [
    "import cv2\n",
    "import numpy as np\n",
    "\n",
    "# 读入图像\n",
    "img = cv2.imread(\"D:/Game/upian/uling.png\", cv2.IMREAD_GRAYSCALE)\n",
    "cv2.imshow(\"Original Image\", img)\n",
    "# 生成高斯噪声\n",
    "def generate_noise(img_size, sigma):\n",
    "    noise = np.zeros(img_size, np.float32)\n",
    "    for i in range(img_size[0]):\n",
    "        for j in range(img_size[1]):\n",
    "            u1 = np.random.rand()\n",
    "            u2 = np.random.rand()\n",
    "            z1 = np.sqrt(-2 * np.log(u1)) * np.cos(2 * np.pi * u2)\n",
    "            noise[i, j] = sigma * z1\n",
    "    return noise\n",
    "\n",
    "# 加入高斯噪声\n",
    "img_size = img.shape\n",
    "noise_sigma_20 = generate_noise(img_size, 20)\n",
    "noise_sigma_40 = generate_noise(img_size, 40)\n",
    "img_noise_sigma_20 = img.astype(np.float32) + noise_sigma_20\n",
    "img_noise_sigma_40 = img.astype(np.float32) + noise_sigma_40\n",
    "cv2.imshow(\"Noisy Image (20dB)\", np.uint8(img_noise_sigma_20))\n",
    "cv2.imshow(\"Noisy Image (10dB)\", np.uint8(img_noise_sigma_40))\n",
    "# 维纳滤波\n",
    "def wiener_filter(img_noise, psf, K):\n",
    "    H = np.fft.fft2(psf, img_noise.shape)\n",
    "    H_conj = np.conj(H)\n",
    "    SNR = K\n",
    "    if K == None:\n",
    "        SNR = 0\n",
    "        v_noise = np.var(img_noise)\n",
    "        v_signal = np.var(img)\n",
    "        SNR = v_signal / v_noise\n",
    "    F = np.fft.fft2(img_noise)\n",
    "    H_abs_squared = np.square(np.abs(H))\n",
    "    G_hat = (H_conj / (H_abs_squared + SNR)) * F\n",
    "    g_hat = np.real(np.fft.ifft2(G_hat))\n",
    "    return g_hat\n",
    "    # 评价指标：PSNR\n",
    "def psnr(img1, img2):\n",
    "    mse = np.mean((img1 - img2) ** 2)\n",
    "    pixel_max = 255.0\n",
    "    return 20 * np.log10(pixel_max / np.sqrt(mse))\n",
    "\n",
    "# 维纳滤波，信噪比未知\n",
    "psf = np.ones((7, 7)) / 49\n",
    "img_restore_sigma_20 = wiener_filter(img_noise_sigma_20, psf, None)\n",
    "img_restore_sigma_40 = wiener_filter(img_noise_sigma_40, psf, None)\n",
    "cv2.imshow(\"Restored Image (Wiener, unknown SNR, 20dB)\", np.uint8(img_restore_sigma_20))\n",
    "cv2.imshow(\"Restored Image (Wiener, unknown SNR, 10dB)\", np.uint8(img_restore_sigma_40))\n",
    "print(\"PSNR (Wiener, unknown SNR, 20dB): \", psnr(img, img_restore_sigma_20))\n",
    "print(\"PSNR (Wiener, unknown SNR, 10dB): \", psnr(img, img_restore_sigma_40))\n",
    "\n",
    "# 维纳滤波，信噪比已知\n",
    "psf = np.ones((5, 5)) / 25\n",
    "img_restore_sigma_20_known = wiener_filter(img_noise_sigma_20, psf, 100)\n",
    "img_restore_sigma_40_known = wiener_filter(img_noise_sigma_40, psf, 10)\n",
    "cv2.imshow(\"Restored Image (Wiener, known SNR, 20dB)\", np.uint8(img_restore_sigma_20_known))\n",
    "cv2.imshow(\"Restored Image (Wiener, known SNR, 10dB)\", np.uint8(img_restore_sigma_40_known))\n",
    "print(\"PSNR (Wiener, known SNR, 20dB): \", psnr(img, img_restore_sigma_20_known))\n",
    "print(\"PSNR (Wiener, known SNR, 10dB): \", psnr(img, img_restore_sigma_40_known))\n",
    "\n",
    "cv2.waitKey(0)\n",
    "cv2.destroyAllWindows()"
   ]
  }
 ],
 "metadata": {
  "kernelspec": {
   "display_name": "base",
   "language": "python",
   "name": "python3"
  },
  "language_info": {
   "codemirror_mode": {
    "name": "ipython",
    "version": 3
   },
   "file_extension": ".py",
   "mimetype": "text/x-python",
   "name": "python",
   "nbconvert_exporter": "python",
   "pygments_lexer": "ipython3",
   "version": "3.9.13"
  },
  "orig_nbformat": 4
 },
 "nbformat": 4,
 "nbformat_minor": 2
}
