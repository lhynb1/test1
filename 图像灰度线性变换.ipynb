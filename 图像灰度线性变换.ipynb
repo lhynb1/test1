{
 "cells": [
  {
   "cell_type": "code",
   "execution_count": 2,
   "metadata": {},
   "outputs": [],
   "source": [
    "import cv2  \n",
    "import numpy as np  \n",
    "import matplotlib.pyplot as plt\n",
    " \n",
    "#读取原始图像\n",
    "img = cv2.imread('D:/Game/upian/uling.png')\n",
    " \n",
    "#图像灰度转换\n",
    "grayImage = cv2.cvtColor(img, cv2.COLOR_BGR2GRAY)\n",
    " \n",
    "#获取图像高度和宽度\n",
    "height = grayImage.shape[0]\n",
    "width = grayImage.shape[1]\n",
    " \n",
    "#创建一幅图像\n",
    "result = np.zeros((height, width), np.uint8)\n",
    " \n",
    "#图像灰度上移变换 DB=DA+50\n",
    "for i in range(height):\n",
    "    for j in range(width):\n",
    "         \n",
    "        if (int(grayImage[i,j]+50) > 255):\n",
    "            gray = 255\n",
    "        else:\n",
    "            gray = int(grayImage[i,j]+50)\n",
    "             \n",
    "        result[i,j] = np.uint8(gray)\n",
    " \n",
    "#显示图像\n",
    "cv2.imshow(\"Gray Image\", grayImage)\n",
    "cv2.imshow(\"Result\", result)\n",
    " \n",
    "#等待显示\n",
    "cv2.waitKey(0)\n",
    "cv2.destroyAllWindows()"
   ]
  }
 ],
 "metadata": {
  "kernelspec": {
   "display_name": "base",
   "language": "python",
   "name": "python3"
  },
  "language_info": {
   "codemirror_mode": {
    "name": "ipython",
    "version": 3
   },
   "file_extension": ".py",
   "mimetype": "text/x-python",
   "name": "python",
   "nbconvert_exporter": "python",
   "pygments_lexer": "ipython3",
   "version": "3.9.13"
  },
  "orig_nbformat": 4
 },
 "nbformat": 4,
 "nbformat_minor": 2
}
